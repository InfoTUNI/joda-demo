{
 "cells": [
  {
   "cell_type": "code",
   "execution_count": 2,
   "id": "258b5654",
   "metadata": {},
   "outputs": [],
   "source": [
    "import pandas as pd"
   ]
  },
  {
   "cell_type": "code",
   "execution_count": 3,
   "id": "bca233b5",
   "metadata": {},
   "outputs": [],
   "source": [
    "df = pd.read_csv('http://data.insideairbnb.com/germany/be/berlin/2021-02-20/data/listings.csv.gz')\n"
   ]
  },
  {
   "cell_type": "code",
   "execution_count": 4,
   "id": "f4fd1889",
   "metadata": {},
   "outputs": [
    {
     "name": "stdout",
     "output_type": "stream",
     "text": [
      "<class 'pandas.core.frame.DataFrame'>\n",
      "RangeIndex: 19978 entries, 0 to 19977\n",
      "Data columns (total 74 columns):\n",
      " #   Column                                        Non-Null Count  Dtype  \n",
      "---  ------                                        --------------  -----  \n",
      " 0   id                                            19978 non-null  int64  \n",
      " 1   listing_url                                   19978 non-null  object \n",
      " 2   scrape_id                                     19978 non-null  int64  \n",
      " 3   last_scraped                                  19978 non-null  object \n",
      " 4   name                                          19946 non-null  object \n",
      " 5   description                                   19413 non-null  object \n",
      " 6   neighborhood_overview                         10752 non-null  object \n",
      " 7   picture_url                                   19978 non-null  object \n",
      " 8   host_id                                       19978 non-null  int64  \n",
      " 9   host_url                                      19978 non-null  object \n",
      " 10  host_name                                     19958 non-null  object \n",
      " 11  host_since                                    19958 non-null  object \n",
      " 12  host_location                                 19910 non-null  object \n",
      " 13  host_about                                    10017 non-null  object \n",
      " 14  host_response_time                            8053 non-null   object \n",
      " 15  host_response_rate                            8053 non-null   object \n",
      " 16  host_acceptance_rate                          10773 non-null  object \n",
      " 17  host_is_superhost                             19958 non-null  object \n",
      " 18  host_thumbnail_url                            19958 non-null  object \n",
      " 19  host_picture_url                              19958 non-null  object \n",
      " 20  host_neighbourhood                            13992 non-null  object \n",
      " 21  host_listings_count                           19958 non-null  float64\n",
      " 22  host_total_listings_count                     19958 non-null  float64\n",
      " 23  host_verifications                            19978 non-null  object \n",
      " 24  host_has_profile_pic                          19958 non-null  object \n",
      " 25  host_identity_verified                        19958 non-null  object \n",
      " 26  neighbourhood                                 10753 non-null  object \n",
      " 27  neighbourhood_cleansed                        19978 non-null  object \n",
      " 28  neighbourhood_group_cleansed                  19978 non-null  object \n",
      " 29  latitude                                      19978 non-null  float64\n",
      " 30  longitude                                     19978 non-null  float64\n",
      " 31  property_type                                 19978 non-null  object \n",
      " 32  room_type                                     19978 non-null  object \n",
      " 33  accommodates                                  19978 non-null  int64  \n",
      " 34  bathrooms                                     0 non-null      float64\n",
      " 35  bathrooms_text                                19953 non-null  object \n",
      " 36  bedrooms                                      18279 non-null  float64\n",
      " 37  beds                                          19723 non-null  float64\n",
      " 38  amenities                                     19978 non-null  object \n",
      " 39  price                                         19978 non-null  object \n",
      " 40  minimum_nights                                19978 non-null  int64  \n",
      " 41  maximum_nights                                19978 non-null  int64  \n",
      " 42  minimum_minimum_nights                        19971 non-null  float64\n",
      " 43  maximum_minimum_nights                        19971 non-null  float64\n",
      " 44  minimum_maximum_nights                        19971 non-null  float64\n",
      " 45  maximum_maximum_nights                        19971 non-null  float64\n",
      " 46  minimum_nights_avg_ntm                        19971 non-null  float64\n",
      " 47  maximum_nights_avg_ntm                        19971 non-null  float64\n",
      " 48  calendar_updated                              0 non-null      float64\n",
      " 49  has_availability                              19978 non-null  object \n",
      " 50  availability_30                               19978 non-null  int64  \n",
      " 51  availability_60                               19978 non-null  int64  \n",
      " 52  availability_90                               19978 non-null  int64  \n",
      " 53  availability_365                              19978 non-null  int64  \n",
      " 54  calendar_last_scraped                         19978 non-null  object \n",
      " 55  number_of_reviews                             19978 non-null  int64  \n",
      " 56  number_of_reviews_ltm                         19978 non-null  int64  \n",
      " 57  number_of_reviews_l30d                        19978 non-null  int64  \n",
      " 58  first_review                                  15868 non-null  object \n",
      " 59  last_review                                   15868 non-null  object \n",
      " 60  review_scores_rating                          15475 non-null  float64\n",
      " 61  review_scores_accuracy                        15456 non-null  float64\n",
      " 62  review_scores_cleanliness                     15457 non-null  float64\n",
      " 63  review_scores_checkin                         15444 non-null  float64\n",
      " 64  review_scores_communication                   15455 non-null  float64\n",
      " 65  review_scores_location                        15446 non-null  float64\n",
      " 66  review_scores_value                           15443 non-null  float64\n",
      " 67  license                                       2322 non-null   object \n",
      " 68  instant_bookable                              19978 non-null  object \n",
      " 69  calculated_host_listings_count                19978 non-null  int64  \n",
      " 70  calculated_host_listings_count_entire_homes   19978 non-null  int64  \n",
      " 71  calculated_host_listings_count_private_rooms  19978 non-null  int64  \n",
      " 72  calculated_host_listings_count_shared_rooms   19978 non-null  int64  \n",
      " 73  reviews_per_month                             15868 non-null  float64\n",
      "dtypes: float64(22), int64(17), object(35)\n",
      "memory usage: 11.3+ MB\n"
     ]
    }
   ],
   "source": [
    "df.info()"
   ]
  },
  {
   "cell_type": "code",
   "execution_count": 7,
   "id": "3c7b5376",
   "metadata": {},
   "outputs": [
    {
     "data": {
      "text/plain": [
       "Frankfurter Allee Süd FK     1117\n",
       "Alexanderplatz               1091\n",
       "Tempelhofer Vorstadt         1024\n",
       "Reuterstraße                  829\n",
       "Brunnenstr. Süd               732\n",
       "                             ... \n",
       "Forst Grunewald                 3\n",
       "Allende-Viertel                 3\n",
       "Neu-Hohenschönhausen Süd        3\n",
       "Marzahn-Nord                    1\n",
       "Neu-Hohenschönhausen Nord       1\n",
       "Name: neighbourhood_cleansed, Length: 138, dtype: int64"
      ]
     },
     "execution_count": 7,
     "metadata": {},
     "output_type": "execute_result"
    }
   ],
   "source": [
    "df.neighbourhood_cleansed.value_counts()"
   ]
  },
  {
   "cell_type": "code",
   "execution_count": 8,
   "id": "8c4e8150",
   "metadata": {},
   "outputs": [
    {
     "data": {
      "text/plain": [
       "0         $52.00\n",
       "1         $90.00\n",
       "2         $29.00\n",
       "3         $79.00\n",
       "4         $33.00\n",
       "          ...   \n",
       "19973     $24.00\n",
       "19974     $20.00\n",
       "19975    $164.00\n",
       "19976     $64.00\n",
       "19977     $35.00\n",
       "Name: price, Length: 19978, dtype: object"
      ]
     },
     "execution_count": 8,
     "metadata": {},
     "output_type": "execute_result"
    }
   ],
   "source": [
    "df.price"
   ]
  },
  {
   "cell_type": "code",
   "execution_count": null,
   "id": "d04d0714",
   "metadata": {},
   "outputs": [],
   "source": []
  }
 ],
 "metadata": {
  "kernelspec": {
   "display_name": "Python 3",
   "language": "python",
   "name": "python3"
  },
  "language_info": {
   "codemirror_mode": {
    "name": "ipython",
    "version": 3
   },
   "file_extension": ".py",
   "mimetype": "text/x-python",
   "name": "python",
   "nbconvert_exporter": "python",
   "pygments_lexer": "ipython3",
   "version": "3.8.2"
  }
 },
 "nbformat": 4,
 "nbformat_minor": 5
}
